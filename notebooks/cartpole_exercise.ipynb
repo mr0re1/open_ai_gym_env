{
 "cells": [
  {
   "cell_type": "markdown",
   "metadata": {},
   "source": [
    "# Cartpole: exercise\n",
    "This my attempt to solve [OpenAI. Requests for Research. Cartpole: for newcomers to RL](https://openai.com/requests-for-research/#cartpole).\n",
    "\n",
    "_No educational/publicistic value is intended, made exclusively for self docmenting and writing exercise.\n",
    "Nevertheless any feedback is welcome._"
   ]
  },
  {
   "cell_type": "code",
   "execution_count": 1,
   "metadata": {},
   "outputs": [],
   "source": [
    "import gym\n",
    "import numpy as np\n",
    "import matplotlib.pyplot as plt\n",
    "from tqdm import tqdm\n",
    "\n",
    "import pandas as pd\n",
    "import warnings\n",
    "warnings.filterwarnings('ignore')"
   ]
  },
  {
   "cell_type": "code",
   "execution_count": 2,
   "metadata": {},
   "outputs": [
    {
     "name": "stdout",
     "output_type": "stream",
     "text": [
      "\u001b[33mWARN: gym.spaces.Box autodetected dtype as <class 'numpy.float32'>. Please provide explicit dtype.\u001b[0m\n"
     ]
    }
   ],
   "source": [
    "env = gym.make('CartPole-v0')\n",
    "\n",
    "SEED = 42\n",
    "env.seed(SEED)\n",
    "np.random.seed(SEED)"
   ]
  },
  {
   "cell_type": "markdown",
   "metadata": {},
   "source": [
    "> Start with a simple linear model (that has only four parameters), and use the sign of the weighted sum to choose between the two actions."
   ]
  },
  {
   "cell_type": "code",
   "execution_count": 3,
   "metadata": {},
   "outputs": [],
   "source": [
    "def make_linear_model(weights):\n",
    "    def policy(state):\n",
    "        weighted_sum = np.dot(state, weights)\n",
    "        return 0 if weighted_sum < 0 else 1\n",
    "    return policy"
   ]
  },
  {
   "cell_type": "code",
   "execution_count": 4,
   "metadata": {},
   "outputs": [],
   "source": [
    "def evaluate_policy(policy):\n",
    "    \"\"\"Runs policy through environment, returns accumulated reward.\"\"\"\n",
    "    score, state, done = 0, env.reset(), False\n",
    "    while not done:  # CartPole-v0 uses max_episode_steps=200\n",
    "        action = policy(state)\n",
    "        state, reward, done, _ = env.step(action)\n",
    "        score += reward\n",
    "    return score"
   ]
  },
  {
   "cell_type": "markdown",
   "metadata": {},
   "source": [
    "> The random guessing algorithm: generate 10,000 random configurations of the model's parameters, and pick the one that achieves the best cumulative reward. It is important to choose the distribution over the parameters correctly."
   ]
  },
  {
   "cell_type": "code",
   "execution_count": 5,
   "metadata": {},
   "outputs": [
    {
     "name": "stdout",
     "output_type": "stream",
     "text": [
      "Best score: 200.0  best random weights:  [-0.676922    0.61167629  1.03099952  0.93128012]\n"
     ]
    }
   ],
   "source": [
    "# Generate random weights (1000 is more than enough) with naive normal distribution.\n",
    "random_weights = np.random.standard_normal([1000, 4])\n",
    "\n",
    "# Evaluate\n",
    "evaluation_scores = np.apply_along_axis(\n",
    "    lambda weights: evaluate_policy(make_linear_model(weights)),\n",
    "    axis=1, # apply for each row\n",
    "    arr=random_weights)\n",
    "\n",
    "print(\"Best score:\", evaluation_scores.max(),\n",
    "      \" best random weights: \", random_weights[evaluation_scores.argmax()])"
   ]
  },
  {
   "cell_type": "markdown",
   "metadata": {},
   "source": [
    "Turns out one can \"solve\" cartpool with just a handful of random weights."
   ]
  },
  {
   "cell_type": "markdown",
   "metadata": {},
   "source": [
    "> The hill-climbing algorithm: start with a random setting of the parameters, add a small amount of noise to the parameters, and evaluate the new parameter configuration. If it performs better than the old configuration, discard the old configuration and accept the new one. Repeat this process for some number of iterations. How long does it take to achieve perfect performance?"
   ]
  },
  {
   "cell_type": "code",
   "execution_count": 6,
   "metadata": {},
   "outputs": [
    {
     "name": "stdout",
     "output_type": "stream",
     "text": [
      "Best score: 200.0  best weights:  [-0.48271142  0.17168059  0.47158941  0.76685094]\n"
     ]
    },
    {
     "data": {
      "image/png": "[encoded data removed]",
      "text/plain": [
       "<Figure size 432x288 with 1 Axes>"
      ]
     },
     "metadata": {},
     "output_type": "display_data"
    }
   ],
   "source": [
    "climbing_iterations, noise_amplitude = 100, 0.5\n",
    "\n",
    "weights = np.random.standard_normal([4])\n",
    "score = evaluate_policy(make_linear_model(weights))\n",
    "score_hist = [score]\n",
    "\n",
    "for T in range(climbing_iterations):\n",
    "    noise = np.random.uniform(low=-noise_amplitude, high=noise_amplitude, size=4)\n",
    "    n_weights = weights + noise\n",
    "    n_score = evaluate_policy(make_linear_model(n_weights))\n",
    "    if n_score > score:\n",
    "        weights,score = n_weights, n_score\n",
    "    score_hist.append(score)\n",
    "\n",
    "plt.plot(score_hist)\n",
    "print(\"Best score:\", score, \" best weights: \", weights)"
   ]
  },
  {
   "cell_type": "markdown",
   "metadata": {},
   "source": [
    "> Policy gradient algorithm: here, instead of choosing the action as a deterministic function of the sign of the weighted sum, make it so that action is chosen randomly, but where the distribution over actions (of which there are two) depends on the numerical output of the inner product. Policy gradient prescribes a principled parameter update rule [\n",
    "[1](https://www.youtube.com/watch?v=oPGVsoBonLM),\n",
    "[2](http://www0.cs.ucl.ac.uk/staff/D.Silver/web/Teaching_files/pg.pdf)].\n",
    "\n",
    "> Your goal is to implement this algorithm for the simple linear model, and see how long it takes to converge."
   ]
  },
  {
   "cell_type": "markdown",
   "metadata": {},
   "source": [
    "My solution is based on [Lecture 7: Policy Gradient](http://www0.cs.ucl.ac.uk/staff/D.Silver/web/Teaching_files/pg.pdf)\n",
    "from awesome [UCL Course on RL](http://www0.cs.ucl.ac.uk/staff/d.silver/web/Teaching.html) by David Silver."
   ]
  },
  {
   "cell_type": "markdown",
   "metadata": {},
   "source": [
    "### Policy\n",
    "\n",
    "We're trying to maximize objective function\n",
    "$$\n",
    "J(\\theta)=\\mathbb{E}_{\\pi_\\theta}[Q^{\\pi_\\theta}(s, a)] =\n",
    "\\sum_{s \\in \\mathcal{S} }{d(s)}\\sum_{a \\in \\mathcal{A} }{ \\pi_\\theta(s, a) Q^{\\pi_\\theta}(s, a)}\n",
    "$$\n",
    "According to Policy Gradient Theorem\n",
    "$$\n",
    "\\nabla_\\theta{J(\\theta)} = \n",
    "\\mathbb{E}_{\\pi_\\theta}[\\nabla_\\theta\\log\\pi_\\theta(s, a)Q^{\\pi_\\theta}(s,a)]\n",
    "$$\n",
    "\n",
    "Let's introduce abstract class `Policy` that represents function $\\pi_\\theta(s, a)$ parameterized by $\\theta$, where:\n",
    "- `Policy.parameters` is $\\theta$;\n",
    "- `Policy.probabilities(state)` returns vector $\\langle \\pi_\\theta(s, a_1), \\dots, \\pi_\\theta(s, a_n) \\rangle$;\n",
    "- `Policy.sample(state)` samples action $a$ for state $s$, according probabilities $\\pi_\\theta(s, a)$;\n",
    "- `Policy.score(state, action)` is policy score function defined as $\\nabla_\\theta\\log\\pi_\\theta(s, a)$."
   ]
  },
  {
   "cell_type": "code",
   "execution_count": 7,
   "metadata": {},
   "outputs": [],
   "source": [
    "class Policy:\n",
    "    def __init__(self, parameters):\n",
    "        self.parameters = np.copy(parameters)\n",
    "    \n",
    "    def probabilities(self, state): raise NotImplemented()\n",
    "    def score(self, state, action): raise NotImplemented()\n",
    "    \n",
    "    def sample(self, state):\n",
    "        p = self.probabilities(state)\n",
    "        return np.random.choice(range(len(p)), p=p)"
   ]
  },
  {
   "cell_type": "markdown",
   "metadata": {},
   "source": [
    "### Monte-Carlo policy gradient\n",
    "\n",
    "Using $G_t$ as unbiased sample of $Q^{\\pi_\\theta}(s_t, a_t)$, and learning rate $\\alpha$\n",
    "\n",
    "$$\n",
    "\\Delta\\theta = \\alpha \\nabla_\\theta\\log\\pi_\\theta(s, a) G_t\n",
    "$$"
   ]
  },
  {
   "cell_type": "code",
   "execution_count": 8,
   "metadata": {},
   "outputs": [],
   "source": [
    "def run_monte_carlo_policy_gradient_ascent(policy, num_episodes, alpha, gamma):\n",
    "    \"\"\"\n",
    "    Takes a `policy` and performs `num_episodes` rounds of gradient ascent.\n",
    "    Each round, run a full episode using `policy.sample` and collect history\n",
    "    [(state, action, reward), ...].\n",
    "    Compute value G using history and perform update to policy parameters.\n",
    "    \"\"\"\n",
    "    episodes_reward = np.zeros([num_episodes])\n",
    "    \n",
    "    for T in tqdm(range(num_episodes)):\n",
    "        # Run full episode to obtain history to run Monte-Carlo on.\n",
    "        state, done, history = env.reset(), False, []\n",
    "        while not done:\n",
    "            action = policy.sample(state)\n",
    "            next_state, reward, done, _ = env.step(action)\n",
    "            history.append((state, action, reward))\n",
    "            state = next_state\n",
    "        \n",
    "        G = 0 # sampled value\n",
    "        for state, action, reward in reversed(history):\n",
    "            G = reward + gamma * G\n",
    "            episodes_reward[T] += reward\n",
    "            # Update policy parameters\n",
    "            policy.parameters += alpha * policy.score(state, action) * G\n",
    "    return episodes_reward"
   ]
  },
  {
   "cell_type": "code",
   "execution_count": 9,
   "metadata": {},
   "outputs": [],
   "source": [
    "def plot_value_and_running_avg(v, window=10):\n",
    "    X = list(range(len(v)))\n",
    "    plt.plot(X, v, X, pd.rolling_mean(v, window))"
   ]
  },
  {
   "cell_type": "markdown",
   "metadata": {},
   "source": [
    "Now we need to implement a policy (`probability` and `score` methods)."
   ]
  },
  {
   "cell_type": "markdown",
   "metadata": {},
   "source": [
    "### Softmax policy\n",
    "\n",
    "David's lecture uses softmax as an example. Probabilities of actions are computed as a softmax of weights, where weight is linear combination of stat-action features and policy parameters.\n",
    "\n",
    "$$\n",
    "\\pi_\\theta(s, a_i) = \n",
    "\\frac {exp(\\phi(s, a_i)^\\top \\theta)} {\\sum_{a \\in \\mathcal{A} }{exp(\\phi(s, a)^\\top \\theta)}}\n",
    "$$\n",
    "\n",
    "The score function is\n",
    "\n",
    "$$\n",
    "\\nabla_\\theta\\log\\pi_\\theta(s, a) = \\phi(s, a) - \\mathbb{E}_{\\pi_\\theta}[\\phi(s, \\cdot)]\n",
    "$$\n",
    "\n",
    "#### Choosing features represenation of state and action."
   ]
  },
  {
   "cell_type": "markdown",
   "metadata": {},
   "source": [
    "##### State + one-hot encoded action\n",
    "As an ML-noob my first thougt was \"if features convey all available information it should be fine\".\n",
    "\n",
    "So I've decided to concatenate four variables of observations with [one-hot](https://en.wikipedia.org/wiki/One-hot) encoded action:\n",
    "$$\\phi(s, a_i) = \\langle s_1, s_2, s_3, s_4, \\delta_{1i}, \\delta_{2i} \\rangle$$ , where $\\delta_{jk}$ is [Kronecker delta](https://en.wikipedia.org/wiki/Kronecker_delta).\n",
    "\n",
    "Turns out it was poor choise.\n",
    "Gradient ascent didn't have an effect on parameters associated with state ($\\theta_1, \\dots, \\theta_4$),\n",
    "only action specific parameters ($\\theta_5, \\theta_6$) were updated. The policy was \"blind\" to the environment. The reason of such behavior is pretty simple:\n",
    "\n",
    "$$\n",
    "\\nabla_\\theta\\log\\pi_\\theta(s, a_i) = \n",
    "\\phi(s, a_i) - \\mathbb{E}_{\\pi_\\theta}[\\phi(s, \\cdot)] = \\\\\n",
    "\\langle s_1, s_2, s_3, s_4, \\delta_{1i}, \\delta_{2i} \\rangle -\n",
    "\\langle s_1, s_2, s_3, s_4, \\pi_\\theta(s, a_1), \\pi_\\theta(s, a_2) \\rangle = \\\\\n",
    "\\langle 0, 0, 0, 0, \\delta_{1i} - \\pi_\\theta(s, a_1), \\delta_{2i} - \\pi_\\theta(s, a_2) \\rangle\n",
    "$$"
   ]
  },
  {
   "cell_type": "markdown",
   "metadata": {},
   "source": [
    "##### Better representation: State-Action Crossing \n",
    "\n",
    "$$\n",
    "\\phi(s, a_1) = \\langle s_1, s_2, s_3, s_4, 0, 0, 0, 0 \\rangle \\\\\n",
    "\\phi(s, a_2) = \\langle 0, 0, 0, 0, s_1, s_2, s_3, s_4  \\rangle\n",
    "$$"
   ]
  },
  {
   "cell_type": "code",
   "execution_count": 10,
   "metadata": {},
   "outputs": [
    {
     "name": "stderr",
     "output_type": "stream",
     "text": [
      "100%|██████████| 2000/2000 [00:51<00:00, 38.95it/s]\n"
     ]
    },
    {
     "data": {
      "image/png": "[encoded data removed]",
      "text/plain": [
       "<Figure size 432x288 with 1 Axes>"
      ]
     },
     "metadata": {},
     "output_type": "display_data"
    }
   ],
   "source": [
    "class StateActionCrossingSoftmaxPolicy(Policy):\n",
    "    def features(self, state, action):\n",
    "        if action == 0:\n",
    "            return np.append(state, np.zeros([len(state)]))\n",
    "        else:\n",
    "            return np.append(np.zeros([len(state)]), state)\n",
    "    \n",
    "    def probabilities(self, state):\n",
    "        e_0 = np.exp(np.dot(self.features(state, 0), self.parameters))\n",
    "        e_1 = np.exp(np.dot(self.features(state, 1), self.parameters))\n",
    "        norm = e_0 + e_1\n",
    "        return [ e_0 / norm, e_1 / norm ]\n",
    "    \n",
    "    def score(self, state, action):\n",
    "        p = self.probabilities(state)\n",
    "        return self.features(state, action) - sum([p[a] * self.features(state, a) for a in (0, 1)])\n",
    "\n",
    "\n",
    "plot_value_and_running_avg(\n",
    "    run_monte_carlo_policy_gradient_ascent(\n",
    "        StateActionCrossingSoftmaxPolicy(np.random.standard_normal([8])),\n",
    "        num_episodes=2000, alpha=0.001, gamma=.99))"
   ]
  },
  {
   "cell_type": "markdown",
   "metadata": {},
   "source": [
    "This way to represent features is equivalent to having a parameters matrix with number of rows\n",
    "equal to number of state features and a column for each action.\n",
    "\n",
    "$$\n",
    "\\pi_\\theta(s, a_i) = \\frac {e^{s^{\\top}\\theta_{:,i}}} {\\sum_j{e^{s^{\\top}\\theta_{:,j}}}}\n",
    "\\text{ where } \\theta_{:,i} \\text{ is i-th column of } \\theta\n",
    "$$\n",
    "$$\n",
    "\\nabla_\\theta\\log\\pi_\\theta(s, a_i) = \n",
    "\\nabla_\\theta{s^{\\top}\\theta_{:,i}} - s \\langle \\pi_\\theta(s, a_1), \\dots, \\pi_\\theta(s, a_n) \\rangle^{\\top}\n",
    "$$\n",
    "\n",
    "In other words score function looks like this:\n",
    "\n",
    "$$\n",
    "\\nabla_\\theta\\log\\pi_\\theta(s, a_i)=\n",
    "\\begin{bmatrix}\n",
    "-\\pi_\\theta(s, a_1)s_1 & \\dots  & (1 - \\pi_\\theta(s, a_i))s_1 & \\dots & -\\pi_\\theta(s, a_k)s_1 \\\\\n",
    "-\\pi_\\theta(s, a_1)s_2 & \\dots  & (1 - \\pi_\\theta(s, a_i))s_2 & \\dots & -\\pi_\\theta(s, a_k)s_2 \\\\\n",
    "\\vdots                 & \\vdots & \\vdots                      & \\vdots & \\vdots \\\\\n",
    "-\\pi_\\theta(s, a_1)s_n & \\dots  & (1 - \\pi_\\theta(s, a_i))s_n & \\dots & -\\pi_\\theta(s, a_k)s_n \\\\\n",
    "\\end{bmatrix}\n",
    "$$\n",
    "\n",
    "It makes code more compact:"
   ]
  },
  {
   "cell_type": "code",
   "execution_count": 11,
   "metadata": {},
   "outputs": [
    {
     "name": "stderr",
     "output_type": "stream",
     "text": [
      "100%|██████████| 2000/2000 [00:41<00:00, 48.53it/s]\n"
     ]
    },
    {
     "data": {
      "image/png": "[encoded data removed]",
      "text/plain": [
       "<Figure size 432x288 with 1 Axes>"
      ]
     },
     "metadata": {},
     "output_type": "display_data"
    }
   ],
   "source": [
    "class MatrixSoftmaxPolicy(Policy):    \n",
    "    def probabilities(self, state):\n",
    "        e = np.exp(np.matmul(state, self.parameters))\n",
    "        return e / e.sum()\n",
    "    \n",
    "    def score(self, state, action):\n",
    "        s = -np.einsum('i,j->ij', state, self.probabilities(state))\n",
    "        s[:,action] += state\n",
    "        return s\n",
    "\n",
    "plot_value_and_running_avg(\n",
    "    run_monte_carlo_policy_gradient_ascent(\n",
    "        MatrixSoftmaxPolicy(np.random.standard_normal([4, 2])),\n",
    "        num_episodes=2000, alpha=0.001, gamma=.99))"
   ]
  },
  {
   "cell_type": "markdown",
   "metadata": {},
   "source": [
    "#### Sigmoid policy\n",
    "\n",
    "Essentially Cartpole policy represents probability of two disjoint outcomes: \"apply force -1, otherwise apply force +1\". Therefore it can be represented as $B(s)$ where\n",
    "$$\n",
    "\\begin{cases}\n",
    "\\pi_\\theta(s, 0)=B(s) \\\\\n",
    "\\pi_\\theta(s, 1)=1-B(s)\n",
    "\\end{cases}\n",
    "$$\n",
    "\n",
    "Using softmax and trying to fit eight parameters appears to me as an overcomplicated way to solve binominal regression.\n",
    "Let's try to solve it using sigmoid of linear combination of parameters and state only.\n",
    "\n",
    "$$\n",
    "\\pi_\\theta(s, a) =\n",
    "\\begin{cases}\n",
    "\\ \\frac {e^{s^\\top \\theta}} {1 + e^{s^\\top \\theta}} \\text{ if } a=0,  \\\\\n",
    "\\ 1 - \\pi_\\theta(s, 0) \\text{ if } a=1.\n",
    "\\end{cases}\n",
    "$$\n",
    "\n",
    "It got prety nice score functuion:\n",
    "\n",
    "$$\n",
    "\\nabla_\\theta\\log\\pi_\\theta(s,0) = \n",
    "\\nabla_\\theta \\log\\frac {e^{s^\\top \\theta}} {1 + e^{s^\\top\\theta}} = \\\\\n",
    "\\nabla_\\theta(s^\\top\\theta - \\log(1 + e^{s^\\top\\theta})) =\n",
    "s - \\frac {\\nabla_\\theta(1 + e^{s^\\top\\theta})} {1 + e^{s^\\top\\theta}} = \\\\\n",
    "s - s \\frac {e^{s^\\top\\theta}} {1 + e^{s^\\top\\theta}} = \n",
    "s(1 - \\pi_\\theta(s, 0)) = s\\pi_\\theta(s, 1)\n",
    "$$\n",
    "\n",
    "$$\n",
    "\\nabla_\\theta\\log\\pi_\\theta(s,1) = \n",
    "\\nabla_\\theta\\log\\frac {1} {1 + e^{s^\\top\\theta}} =\n",
    "-\\nabla_\\theta\\log(1 + e^{s^\\top\\theta})=-s\\pi_\\theta(s,0)\n",
    "$$\n",
    "Hope I got it right.\n"
   ]
  },
  {
   "cell_type": "code",
   "execution_count": 12,
   "metadata": {},
   "outputs": [
    {
     "name": "stderr",
     "output_type": "stream",
     "text": [
      "100%|██████████| 2000/2000 [00:27<00:00, 73.54it/s]\n"
     ]
    },
    {
     "data": {
      "image/png": "[encoded data removed]",
      "text/plain": [
       "<Figure size 432x288 with 1 Axes>"
      ]
     },
     "metadata": {},
     "output_type": "display_data"
    }
   ],
   "source": [
    "class SigmoidPolicy(Policy):\n",
    "    def probabilities(self, state):\n",
    "        z = np.dot(self.parameters, state)\n",
    "        e_z = np.exp(z)\n",
    "        p_0 = e_z / (1 + e_z)\n",
    "        return [p_0, 1.0 - p_0]\n",
    "    \n",
    "    def score(self, state, action):\n",
    "        p = self.probabilities(state)\n",
    "        if action == 0:\n",
    "            return p[1] * state\n",
    "        else:\n",
    "            return -p[0] * state\n",
    "\n",
    "plot_value_and_running_avg(\n",
    "    run_monte_carlo_policy_gradient_ascent(\n",
    "        SigmoidPolicy(np.random.standard_normal([4])),\n",
    "        num_episodes=2000, alpha=0.001, gamma=.99))"
   ]
  },
  {
   "cell_type": "markdown",
   "metadata": {},
   "source": [
    "It seems to work."
   ]
  },
  {
   "cell_type": "markdown",
   "metadata": {},
   "source": [
    "\n",
    "\n",
    "# FIN"
   ]
  }
 ],
 "metadata": {
  "kernelspec": {
   "display_name": "Python 3",
   "language": "python",
   "name": "python3"
  },
  "language_info": {
   "codemirror_mode": {
    "name": "ipython",
    "version": 3
   },
   "file_extension": ".py",
   "mimetype": "text/x-python",
   "name": "python",
   "nbconvert_exporter": "python",
   "pygments_lexer": "ipython3",
   "version": "3.6.5"
  }
 },
 "nbformat": 4,
 "nbformat_minor": 2
}
